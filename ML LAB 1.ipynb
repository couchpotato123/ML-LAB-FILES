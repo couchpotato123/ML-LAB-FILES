{
 "cells": [
  {
   "cell_type": "code",
   "execution_count": null,
   "metadata": {},
   "outputs": [],
   "source": []
  },
  {
   "cell_type": "code",
   "execution_count": 3,
   "metadata": {
    "colab": {
     "base_uri": "https://localhost:8080/"
    },
    "id": "2f94uiaZVRZa",
    "outputId": "8f042f58-08fc-4f2b-d533-539fb9ebc421"
   },
   "outputs": [
    {
     "name": "stdout",
     "output_type": "stream",
     "text": [
      "[ 0  1  2  3  4  5  6  7  8  9 10 11 12 13 14 15]\n"
     ]
    }
   ],
   "source": [
    "import numpy as num    #i\n",
    "L=num.arange(0,16)\n",
    "print(L)"
   ]
  },
  {
   "cell_type": "code",
   "execution_count": 4,
   "metadata": {
    "colab": {
     "base_uri": "https://localhost:8080/"
    },
    "id": "AGvoYnPuVf-A",
    "outputId": "f1d3165d-527a-46b8-8685-0d7125f2cedb"
   },
   "outputs": [
    {
     "name": "stdout",
     "output_type": "stream",
     "text": [
      "[b'll' b'val' b'ues']\n"
     ]
    }
   ],
   "source": [
    "L=num.chararray(3,3)\n",
    "print(L)"
   ]
  },
  {
   "cell_type": "code",
   "execution_count": null,
   "metadata": {
    "colab": {
     "base_uri": "https://localhost:8080/"
    },
    "id": "5VUb-YTmW2ZQ",
    "outputId": "fa1771df-f552-4c00-926a-aa3e905cf840"
   },
   "outputs": [
    {
     "name": "stdout",
     "output_type": "stream",
     "text": [
      "int64\n"
     ]
    }
   ],
   "source": [
    "print(L.dtype)"
   ]
  },
  {
   "cell_type": "code",
   "execution_count": null,
   "metadata": {
    "colab": {
     "base_uri": "https://localhost:8080/"
    },
    "id": "0quqMkppYGUx",
    "outputId": "c5e035f5-4301-40be-a683-f2e9d12a26be"
   },
   "outputs": [
    {
     "name": "stdout",
     "output_type": "stream",
     "text": [
      "int64\n",
      "[0 0 0 0 0 0 0 0 0 0]\n"
     ]
    }
   ],
   "source": [
    "A=num.zeros(10)\n",
    "B=A.astype(int)\n",
    "print(B.dtype)\n",
    "print(B)"
   ]
  },
  {
   "cell_type": "code",
   "execution_count": null,
   "metadata": {
    "colab": {
     "base_uri": "https://localhost:8080/"
    },
    "id": "tNLQ0RhKZhdG",
    "outputId": "7ae6c054-9617-4cbc-a0da-117b26474b93"
   },
   "outputs": [
    {
     "name": "stdout",
     "output_type": "stream",
     "text": [
      "[[1. 1. 1. 1. 1. 1.]\n",
      " [1. 1. 1. 1. 1. 1.]\n",
      " [1. 1. 1. 1. 1. 1.]\n",
      " [1. 1. 1. 1. 1. 1.]\n",
      " [1. 1. 1. 1. 1. 1.]]\n"
     ]
    }
   ],
   "source": [
    "B=num.ones(30).reshape((5,6))\n",
    "print(B)"
   ]
  },
  {
   "cell_type": "code",
   "execution_count": null,
   "metadata": {
    "colab": {
     "base_uri": "https://localhost:8080/"
    },
    "id": "SGY3JcDRaKuX",
    "outputId": "d5ebda71-6428-4082-ebcb-fc0e938bb76b"
   },
   "outputs": [
    {
     "name": "stdout",
     "output_type": "stream",
     "text": [
      "[[2.12 2.12 2.12 2.12]\n",
      " [2.12 2.12 2.12 2.12]\n",
      " [2.12 2.12 2.12 2.12]\n",
      " [2.12 2.12 2.12 2.12]]\n"
     ]
    }
   ],
   "source": [
    "#Create 4X4 matrix where each of the values are 2.12. \n",
    "                                #ALT METHOD\n",
    "                                #C=num.zeros((4,4))\n",
    "                                #[::][::]=2.12\n",
    "C=num.full((4,4),2.12)\n",
    "print(C)"
   ]
  },
  {
   "cell_type": "code",
   "execution_count": null,
   "metadata": {
    "colab": {
     "base_uri": "https://localhost:8080/"
    },
    "id": "KzOMWNwBatFY",
    "outputId": "01306d98-c105-4025-8e7f-267922f7109b"
   },
   "outputs": [
    {
     "name": "stdout",
     "output_type": "stream",
     "text": [
      "[ 3  6  9 12 15 18 21 24 27 30]\n",
      "int64\n"
     ]
    }
   ],
   "source": [
    "#Create an array of integers from multiples of 3 below 30.\n",
    "\n",
    "D=num.arange(3,31,3)\n",
    "print(D)\n",
    "print(D.dtype)"
   ]
  },
  {
   "cell_type": "code",
   "execution_count": null,
   "metadata": {
    "colab": {
     "base_uri": "https://localhost:8080/"
    },
    "id": "EFkv5qw_dqcx",
    "outputId": "2d71ae39-a55d-49bf-d766-5c447afcde90"
   },
   "outputs": [
    {
     "name": "stdout",
     "output_type": "stream",
     "text": [
      "[1.         1.44444444 1.88888889 2.33333333 2.77777778 3.22222222\n",
      " 3.66666667 4.11111111 4.55555556 5.        ]\n"
     ]
    }
   ],
   "source": [
    "#Create an array of ten numbers starting from 1 to 5 and the numbers must be having equal difference. Example 10, 1.5, 2.0, 2.5 ...... \n",
    "\n",
    "E=num.linspace(1,5,10)\n",
    "print(E)"
   ]
  },
  {
   "cell_type": "code",
   "execution_count": null,
   "metadata": {
    "colab": {
     "base_uri": "https://localhost:8080/"
    },
    "id": "Cu7Dl3upgIol",
    "outputId": "78b2b0d0-424e-4c70-f179-925ecb874a88"
   },
   "outputs": [
    {
     "name": "stdout",
     "output_type": "stream",
     "text": [
      "[[ 0.22222482 -0.20172725  1.76025542]\n",
      " [ 0.08371127 -0.31348231  0.26986506]\n",
      " [ 0.91777963 -0.93424826 -1.08599926]]\n"
     ]
    }
   ],
   "source": [
    "#Create a 3X3 array of random numbers with mean 0 and standard deviation as 1. \n",
    "my_mean=0\n",
    "my_std=1\n",
    "x = num.random.normal(loc=my_mean, scale=my_std, size=9)\n",
    "y=num.reshape(x,(3,3))\n",
    "print(y)"
   ]
  },
  {
   "cell_type": "code",
   "execution_count": null,
   "metadata": {
    "colab": {
     "base_uri": "https://localhost:8080/"
    },
    "id": "3bD4cU70gone",
    "outputId": "ea1e3c85-e99d-4ec1-82ab-5760d7c430a9"
   },
   "outputs": [
    {
     "name": "stdout",
     "output_type": "stream",
     "text": [
      "[[1. 0. 0. 0. 0.]\n",
      " [0. 1. 0. 0. 0.]\n",
      " [0. 0. 1. 0. 0.]\n",
      " [0. 0. 0. 1. 0.]\n",
      " [0. 0. 0. 0. 1.]]\n"
     ]
    }
   ],
   "source": [
    "#Create and identity matrix of dimension 5X5\n",
    "\n",
    "P=num.identity(5,dtype=\"f\")\n",
    "print(P)"
   ]
  },
  {
   "cell_type": "code",
   "execution_count": null,
   "metadata": {
    "colab": {
     "base_uri": "https://localhost:8080/"
    },
    "id": "41eDbGYWhDCy",
    "outputId": "634ebd3e-84f8-4543-9c00-d27d9c0f7eae"
   },
   "outputs": [
    {
     "name": "stdout",
     "output_type": "stream",
     "text": [
      "[ 0  1  2  3  4  5  6  7  8  9 10 11 12 13 14 15 16 17 18 19]\n",
      "[0 1 2 3 4]\n",
      "[15 16 17 18 19]\n",
      "16\n"
     ]
    }
   ],
   "source": [
    "'''Create an array of integers from 0 to 19 and print the values.\n",
    " And use this array for answering the following questions\n",
    " a.Print first five elements.\n",
    " b.Print last five elements.c.\n",
    " Print element from 4thposition to last.\n",
    " d.Print the elements at even places.\n",
    "  e.Print elements from first position step by three\n",
    "  f.Print the array in reverse order.'''\n",
    "\n",
    "c=num.arange(0,20)\n",
    "print(c)\n",
    "print(c[:5])\n",
    "print(c[15:])\n",
    "print(c[-4])\n",
    "\n",
    "print(num.flip(L))"
   ]
  },
  {
   "cell_type": "code",
   "execution_count": null,
   "metadata": {
    "colab": {
     "base_uri": "https://localhost:8080/"
    },
    "id": "gx66A7iFjOG5",
    "outputId": "1b904044-23b5-4e73-9e8f-1c73733cebf9"
   },
   "outputs": [
    {
     "name": "stdout",
     "output_type": "stream",
     "text": [
      "X: [1 2 3 4 5]\n",
      "Y: [10 20 30 40 50]\n",
      "Z: [100 200 300 400 500]\n"
     ]
    }
   ],
   "source": [
    "#Create arrays X, Y, Z with the following data.\n",
    "#X = 1,2,3,4,5\n",
    "#Y=10, 20, 30, 40, 50\n",
    "#Z =100, 200, 300, 400, 500\n",
    "X=num.array([1,2,3,4,5])\n",
    "print(\"X:\", X) \n",
    "Y=num.array([10,20,30,40,50])\n",
    "print(\"Y:\", Y)\n",
    "Z=num.array([100,200,300,400,500])\n",
    "print(\"Z:\", Z)"
   ]
  },
  {
   "cell_type": "code",
   "execution_count": null,
   "metadata": {
    "colab": {
     "base_uri": "https://localhost:8080/"
    },
    "id": "LLaiPnsUjPQw",
    "outputId": "41cfa7c8-25b6-461d-deb6-c0e820cd83ed"
   },
   "outputs": [
    {
     "name": "stdout",
     "output_type": "stream",
     "text": [
      "[[ 0  1  2  3  4]\n",
      " [ 5  6  7  8  9]\n",
      " [10 11 12 13 14]\n",
      " [15 16 17 18 19]]\n"
     ]
    }
   ],
   "source": [
    "N=num.arange(0,20).reshape((4,5))\n",
    "print(N)"
   ]
  },
  {
   "cell_type": "code",
   "execution_count": null,
   "metadata": {
    "id": "FQK6V3vyspor"
   },
   "outputs": [],
   "source": []
  }
 ],
 "metadata": {
  "colab": {
   "collapsed_sections": [],
   "name": "ML INLAB 1.ipynb",
   "provenance": []
  },
  "kernelspec": {
   "display_name": "Python 3",
   "language": "python",
   "name": "python3"
  },
  "language_info": {
   "codemirror_mode": {
    "name": "ipython",
    "version": 3
   },
   "file_extension": ".py",
   "mimetype": "text/x-python",
   "name": "python",
   "nbconvert_exporter": "python",
   "pygments_lexer": "ipython3",
   "version": "3.8.8"
  }
 },
 "nbformat": 4,
 "nbformat_minor": 1
}
