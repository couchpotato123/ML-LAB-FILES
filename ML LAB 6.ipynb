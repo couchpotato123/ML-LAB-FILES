{
 "cells": [
  {
   "cell_type": "code",
   "execution_count": 16,
   "id": "9af92a0a",
   "metadata": {},
   "outputs": [],
   "source": [
    "import pandas as pd\n",
    "import numpy as np\n",
    "from sklearn.datasets import load_iris\n",
    "from sklearn.model_selection import train_test_split\n",
    "from sklearn import metrics\n",
    "from sklearn.neural_network import MLPClassifier"
   ]
  },
  {
   "cell_type": "code",
   "execution_count": 49,
   "id": "48d3a3af",
   "metadata": {},
   "outputs": [],
   "source": [
    "df = load_iris()\n",
    "df = pd.DataFrame(df.data, columns= df.feature_names)\n",
    "df['Target'] = load_iris().target"
   ]
  },
  {
   "cell_type": "code",
   "execution_count": 50,
   "id": "3e74c4ab",
   "metadata": {},
   "outputs": [],
   "source": [
    "X = df.drop(labels = ['Target'], axis=1)\n",
    "Y = df['Target']\n",
    "X_train, X_test, Y_train, Y_test = train_test_split(X,Y, random_state=42, test_size= 0.2)"
   ]
  },
  {
   "cell_type": "code",
   "execution_count": 51,
   "id": "5b792f31",
   "metadata": {},
   "outputs": [],
   "source": [
    "clf = MLPClassifier(max_iter= 1000)\n",
    "model=clf.fit(X_train,Y_train)\n"
   ]
  },
  {
   "cell_type": "code",
   "execution_count": 64,
   "id": "84500fb8",
   "metadata": {},
   "outputs": [
    {
     "name": "stdout",
     "output_type": "stream",
     "text": [
      "Train Score is : 0.9833333333333333\n",
      "Test Score is : 1.0\n"
     ]
    }
   ],
   "source": [
    "train_score=model.score(X_train, Y_train)\n",
    "test_score=model.score(X_test, Y_test)\n",
    "print(\"Train Score is :\", train_score)\n",
    "print(\"Test Score is :\", test_score)"
   ]
  }
 ],
 "metadata": {
  "kernelspec": {
   "display_name": "Python 3",
   "language": "python",
   "name": "python3"
  },
  "language_info": {
   "codemirror_mode": {
    "name": "ipython",
    "version": 3
   },
   "file_extension": ".py",
   "mimetype": "text/x-python",
   "name": "python",
   "nbconvert_exporter": "python",
   "pygments_lexer": "ipython3",
   "version": "3.8.8"
  }
 },
 "nbformat": 4,
 "nbformat_minor": 5
}
